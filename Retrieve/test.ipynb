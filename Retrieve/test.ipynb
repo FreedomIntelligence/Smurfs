{
 "cells": [
  {
   "cell_type": "code",
   "execution_count": 1,
   "metadata": {},
   "outputs": [
    {
     "name": "stdout",
     "output_type": "stream",
     "text": [
      "['the', 'quick', 'brown', 'brown', 'fox']\n"
     ]
    },
    {
     "name": "stderr",
     "output_type": "stream",
     "text": [
      "/home/chenjunzhi/.conda/envs/phoenix/lib/python3.9/site-packages/tqdm/auto.py:21: TqdmWarning: IProgress not found. Please update jupyter and ipywidgets. See https://ipywidgets.readthedocs.io/en/stable/user_install.html\n",
      "  from .autonotebook import tqdm as notebook_tqdm\n"
     ]
    }
   ],
   "source": [
    "from tool_database import tool_database\n",
    "from transformers import AutoTokenizer"
   ]
  },
  {
   "cell_type": "code",
   "execution_count": 2,
   "metadata": {},
   "outputs": [
    {
     "data": {
      "text/plain": [
       "1"
      ]
     },
     "execution_count": 2,
     "metadata": {},
     "output_type": "execute_result"
    }
   ],
   "source": [
    "tokenizer = AutoTokenizer.from_pretrained(\"/mntcephfs/lab_data/chenjunzhi/mistralai:Mistral-7B-Instruct-v0.2\")\n",
    "base_path = \"/mntcephfs/lab_data/chenjunzhi/data/toolllama_G123_dfs_train.json\"\n",
    "tool_doc_path = \"/home/chenjunzhi/JARVIS/easytool/data_toolbench/tool_instruction/toolbench_tool_instruction.json\"\n",
    "tokenizer.add_special_tokens({\"bos_token\": \"<s>\", \"eos_token\": \"</s>\", \"pad_token\": \"<pad>\"})"
   ]
  },
  {
   "cell_type": "code",
   "execution_count": 3,
   "metadata": {},
   "outputs": [],
   "source": [
    "tool_database = tool_database(base_path, tokenizer, tool_doc_path)"
   ]
  },
  {
   "cell_type": "code",
   "execution_count": 42,
   "metadata": {},
   "outputs": [],
   "source": [
    "query = \"I want to do a project on social media influencers, and I want to gather data from Facebook. Can you help me retrieve user information for a specific username, such as 'addidas'? Thank you!\\nBegin!\""
   ]
  },
  {
   "cell_type": "code",
   "execution_count": 43,
   "metadata": {},
   "outputs": [
    {
     "data": {
      "text/plain": [
       "[0, 56367, 62805, 163901, 170739]"
      ]
     },
     "execution_count": 43,
     "metadata": {},
     "output_type": "execute_result"
    }
   ],
   "source": [
    "indices = tool_database.bm25_retrieve_query(query)\n",
    "indices"
   ]
  },
  {
   "cell_type": "code",
   "execution_count": 44,
   "metadata": {},
   "outputs": [],
   "source": [
    "i, j = tool_database.query_database[56367][0], tool_database.query_database[56367][1]"
   ]
  },
  {
   "cell_type": "code",
   "execution_count": 45,
   "metadata": {},
   "outputs": [
    {
     "data": {
      "text/plain": [
       "[{'from': 'system',\n",
       "  'value': 'You are AutoGPT, you can use many tools(functions) to do the following task.\\nFirst I will give you the task description, and your task start.\\nAt each step, you need to give your thought to analyze the status now and what to do next, with a function call to actually excute your step. Your output should follow this format:\\nThought:\\nAction\\nAction Input:\\n\\nAfter the call, you will get the call result, and you are now in a new state.\\nThen you will analyze your status now, then decide what to do next...\\nAfter many (Thought-call) pairs, you finally perform the task, then you can give your finial answer.\\nRemember: \\n1.the state change is irreversible, you can\\'t go back to one of the former state, if you want to restart the task, say \"I give up and restart\".\\n2.All the thought is short, at most in 5 sentence.\\n3.You can do more then one trys, so if your plan is to continusly try some conditions, you can do one of the conditions per try.\\nLet\\'s Begin!\\nTask description: You should use functions to help handle the real time user querys. Remember:\\n1.ALWAYS call \"Finish\" function at the end of the task. And the final answer should contain enough information to show to the user,If you can\\'t handle the task, or you find that function calls always fail(the function is not valid now), use function Finish->give_up_and_restart.\\n2.Do not use origin tool names, use only subfunctions\\' names.\\nYou have access of the following tools:\\n1.tiktok_api: Reliable TikTok API\\n\\nSpecifically, you have access to the following APIs: [{\\'name\\': \\'collection_videos_details_for_tiktok_api\\', \\'description\\': \\'This is the subfunction for tool \"tiktok_api\", you can use this tool.The description of this function is: \"Return a collection details and videos\"\\', \\'parameters\\': {\\'type\\': \\'object\\', \\'properties\\': {\\'collection_id\\': {\\'type\\': \\'string\\', \\'description\\': \\'\\', \\'example_value\\': \\'(Recipes & Good Eats)-7084615222824045358\\'}, \\'username\\': {\\'type\\': \\'string\\', \\'description\\': \\'\\', \\'example_value\\': \\'abbeychaplain\\'}}, \\'required\\': [\\'collection_id\\', \\'username\\'], \\'optional\\': []}}, {\\'name\\': \\'user_s_videos_for_tiktok_api\\', \\'description\\': \\'This is the subfunction for tool \"tiktok_api\", you can use this tool.The description of this function is: \"Return User Videos\"\\', \\'parameters\\': {\\'type\\': \\'object\\', \\'properties\\': {\\'username\\': {\\'type\\': \\'string\\', \\'description\\': \\'\\', \\'example_value\\': \\'mrbeast\\'}}, \\'required\\': [\\'username\\'], \\'optional\\': []}}, {\\'name\\': \\'user_s_details_for_tiktok_api\\', \\'description\\': \\'This is the subfunction for tool \"tiktok_api\", you can use this tool.The description of this function is: \"Return User Details\"\\', \\'parameters\\': {\\'type\\': \\'object\\', \\'properties\\': {\\'username\\': {\\'type\\': \\'string\\', \\'description\\': \\'\\', \\'example_value\\': \\'mrbeast\\'}}, \\'required\\': [\\'username\\'], \\'optional\\': []}}, {\\'name\\': \\'search_videos_for_tiktok_api\\', \\'description\\': \\'This is the subfunction for tool \"tiktok_api\", you can use this tool.The description of this function is: \"Return Search Result\"\\', \\'parameters\\': {\\'type\\': \\'object\\', \\'properties\\': {\\'query\\': {\\'type\\': \\'string\\', \\'description\\': \\'\\', \\'example_value\\': \\'mr beast\\'}}, \\'required\\': [\\'query\\'], \\'optional\\': []}}, {\\'name\\': \\'search_accounts_for_tiktok_api\\', \\'description\\': \\'This is the subfunction for tool \"tiktok_api\", you can use this tool.The description of this function is: \"Return Search Result\"\\', \\'parameters\\': {\\'type\\': \\'object\\', \\'properties\\': {\\'query\\': {\\'type\\': \\'string\\', \\'description\\': \\'\\', \\'example_value\\': \\'mr beast\\'}}, \\'required\\': [\\'query\\'], \\'optional\\': []}}, {\\'name\\': \\'video_details_for_tiktok_api\\', \\'description\\': \\'This is the subfunction for tool \"tiktok_api\", you can use this tool.The description of this function is: \"Return video_details_for_tiktok_api\"\\', \\'parameters\\': {\\'type\\': \\'object\\', \\'properties\\': {\\'video_id\\': {\\'type\\': \\'string\\', \\'description\\': \\'\\', \\'example_value\\': \\'7149284958899785006\\'}}, \\'required\\': [\\'video_id\\'], \\'optional\\': []}}, {\\'name\\': \\'Finish\\', \\'description\\': \\'If you believe that you have obtained a result that can answer the task, please call this function to provide the final answer. Alternatively, if you recognize that you are unable to proceed with the task in the current state, call this function to restart. Remember: you must ALWAYS call this function at the end of your attempt, and the only part that will be shown to the user is the final answer, so it should contain sufficient information.\\', \\'parameters\\': {\\'type\\': \\'object\\', \\'properties\\': {\\'return_type\\': {\\'type\\': \\'string\\', \\'enum\\': [\\'give_answer\\', \\'give_up_and_restart\\']}, \\'final_answer\\': {\\'type\\': \\'string\\', \\'description\\': \\'The final answer you want to give the user. You should have this field if \"return_type\"==\"give_answer\"\\'}}, \\'required\\': [\\'return_type\\']}}]'},\n",
       " {'from': 'user',\n",
       "  'value': \"\\nHey! I'm working on a research project about TikTok influencers and I need to gather some data. Could you help me by fetching the videos and details of a specific user with the username 'mrbeast'? It would be great to know their total number of videos and followers as well. Thanks!\\nBegin!\\n\"},\n",
       " {'from': 'assistant',\n",
       "  'value': '\\nThought: Based on the previous action, it seems that there was an error while fetching the details of the user \\'mrbeast\\' due to a data error. To gather the videos and details of the user \\'mrbeast\\', I will try to call the \\'user_s_videos_for_tiktok_api\\' function instead. This function should return the user\\'s videos which can provide insights into their content.\\nAction: user_s_videos_for_tiktok_api\\nAction Input: {\\n  \"username\": \"mrbeast\"\\n}'},\n",
       " {'from': 'function',\n",
       "  'value': '{\"error\": \"request invalid, data error. status_code=503\", \"response\": \"\"}'},\n",
       " {'from': 'assistant',\n",
       "  'value': '\\nThought: It seems that there was an error while fetching the videos of the user \\'mrbeast\\'. Since the previous attempt failed, I will try to gather the details of the user instead by calling the \\'user_s_details_for_tiktok_api\\' function. This function should provide information about the user\\'s followers and other details.\\nAction: user_s_details_for_tiktok_api\\nAction Input: {\\n  \"username\": \"mrbeast\"\\n}'},\n",
       " {'from': 'function',\n",
       "  'value': '{\"error\": \"request invalid, data error. status_code=503\", \"response\": \"\"}'},\n",
       " {'from': 'user',\n",
       "  'value': 'This is not the first time you try this task, all previous trails failed.\\nBefore you generate my thought for this state, I will first show you your previous actions for this state, and then you must generate actions that is different from all of them. Here are some previous actions candidates:\\n[\\n  {\\n    \"name\": \"Finish\",\\n    \"arguments\": \"{\\\\n  \\\\\"return_type\\\\\": \\\\\"give_up_and_restart\\\\\"\\\\n}\",\\n    \"function_output\": \"{\\\\\"response\\\\\":\\\\\"chose to give up and restart\\\\\"}\",\\n    \"mento-carlo-action-value\": -10000\\n  }\\n]\\nagain, your former observation: {\"error\": \"request invalid, data error. status_code=503\", \"response\": \"\"}\\n\\nRemember you are now in the intermediate state of a trail, you will first analyze the now state and previous action candidates, then make actions that is different from all the previous.'},\n",
       " {'from': 'assistant',\n",
       "  'value': '\\nThought: Based on the current state and the previous action attempts, it seems that there is an issue with fetching data for the user \\'mrbeast\\' due to a data error or a server issue. Since the previous attempts to fetch videos and user details have failed, I will try a different approach by searching for the user \\'mrbeast\\' using the \\'search_accounts_for_tiktok_api\\' function. This function should provide information about the user and their videos.\\nAction: search_accounts_for_tiktok_api\\nAction Input: {\\n  \"query\": \"mrbeast\"\\n}'},\n",
       " {'from': 'function',\n",
       "  'value': '{\"error\": \"request invalid, data error. status_code=503\", \"response\": \"\"}'},\n",
       " {'from': 'assistant',\n",
       "  'value': '\\nThought: Unfortunately, it seems that there is an issue with fetching data for the user \\'mrbeast\\' using the search query. The request returned a data error with a status code of 503. Since all previous attempts to gather data for the user \\'mrbeast\\' have failed, I am unable to provide the requested information at this time. I will give up and restart the task.\\nAction: Finish\\nAction Input: {\\n  \"return_type\": \"give_up_and_restart\"\\n}'}]"
      ]
     },
     "execution_count": 45,
     "metadata": {},
     "output_type": "execute_result"
    }
   ],
   "source": [
    "conversation = tool_database.get_conversations(i)\n",
    "conversation"
   ]
  },
  {
   "cell_type": "code",
   "execution_count": 46,
   "metadata": {},
   "outputs": [
    {
     "data": {
      "text/plain": [
       "{'from': 'assistant',\n",
       " 'value': '\\nThought: I need to gather user information for a specific Instagram username, \\'nike\\', as requested by the user. They also want access to the user\\'s recent media posts. To achieve this, I will call the \\'userinfo_for_instagram_cheapest\\' function with the argument of {\"username\": \"nike\"}. This will help me retrieve the desired data efficiently and fulfill the user\\'s request effectively.\\nAction: userinfo_for_instagram_cheapest\\nAction Input: {\\n  \"username\": \"nike\"\\n}'}"
      ]
     },
     "execution_count": 46,
     "metadata": {},
     "output_type": "execute_result"
    }
   ],
   "source": [
    "i, j = tool_database.action_database[\"userinfo_for_instagram_cheapest\"][0]\n",
    "c = tool_database.get_conversation(i, j)\n",
    "c"
   ]
  },
  {
   "cell_type": "code",
   "execution_count": 47,
   "metadata": {},
   "outputs": [
    {
     "data": {
      "text/plain": [
       "'{\\'name\\': \\'getOrders\\', \\'description\\': \\'The endpoint retrieves all orders.\\\\n\\\\nSet the authorization to \"Bearer admin\" to authorize that the admin can check and confirm all orders.\\\\n\\\\nYou should get a JSON object with the following attributes;\\\\nid (integer): The unique identifier for the order.\\\\ndeliveryDate(Date): The date that the user wants the order to be delivered\\\\ndestination(String): Location\\\\nAlongside with the user who ordered the product\\', \\'required_parameters\\': [], \\'optional_parameters\\': [], \\'Example\\': {\\'Scenario\\': \\'If you want to retrieve all orders as an admin\\', \\'Parameters\\': {}}}'"
      ]
     },
     "execution_count": 47,
     "metadata": {},
     "output_type": "execute_result"
    }
   ],
   "source": [
    "str(tool_database.tool_doc_database[\"Cartify.getOrders\"])"
   ]
  },
  {
   "cell_type": "code",
   "execution_count": 30,
   "metadata": {},
   "outputs": [],
   "source": [
    "import random\n",
    "DEFAULT_THOUGHT_TOKEN = \"Thought: \"\n",
    "DEFAULT_ACTION_TOKEN = \"Action: \"\n",
    "DEFAULT_INPUTS_TOKEN = \"Action Input: \"\n",
    "DEFAULT_OBSERVATION_TOKEN = \"Observation: \"\n",
    "def bug_retrieve_thought_ICL(database, action, top_k=5):\n",
    "        thought_ICL = \"\"\n",
    "        index = 1\n",
    "        standard_action = action\n",
    "        action = action[action.find(\".\")+1:]\n",
    "        try:\n",
    "            action_indices = database.action_database[action]\n",
    "        except:\n",
    "            return -1\n",
    "        if len(action_indices) > top_k:\n",
    "            random.shuffle(action_indices)\n",
    "        for action_indice in action_indices:\n",
    "            i, j = action_indice\n",
    "            example_conversation = database.get_conversation(i, j)[\"value\"]\n",
    "            assistant = database.assistant_decompose(example_conversation)\n",
    "            if assistant[\"action\"] == \"Finish\":\n",
    "                continue\n",
    "            try:\n",
    "                next_conversation = database.get_conversation(i, j+1)[\"value\"]\n",
    "            except:\n",
    "                continue\n",
    "            try:\n",
    "                next_assistant = database.assistant_decompose(database.get_conversation(i, j+2)[\"value\"])\n",
    "                if not isinstance(next_assistant, dict):\n",
    "                    continue\n",
    "            except:\n",
    "                continue\n",
    "            observation = f\"\\n{DEFAULT_OBSERVATION_TOKEN}{next_conversation}\"\n",
    "            example_conversation = example_conversation+observation\n",
    "            next_thought = next_assistant[\"thought\"]\n",
    "            next_thought = f\"{DEFAULT_THOUGHT_TOKEN}{next_thought}\"\n",
    "            example_messages = [{'role': 'user', 'content': example_conversation},\n",
    "                                {'role': 'assistant', 'content': next_thought}]\n",
    "            example_ICL = database.get_prompt(example_messages)\n",
    "            example_ICL = f\"{index}. {example_ICL}\\n\"\n",
    "            thought_ICL += example_ICL\n",
    "            index += 1\n",
    "            if index > top_k:\n",
    "                break\n",
    "        \n",
    "        return thought_ICL"
   ]
  },
  {
   "cell_type": "code",
   "execution_count": 48,
   "metadata": {},
   "outputs": [
    {
     "ename": "TypeError",
     "evalue": "list indices must be integers or slices, not tuple",
     "output_type": "error",
     "traceback": [
      "\u001b[0;31m---------------------------------------------------------------------------\u001b[0m",
      "\u001b[0;31mTypeError\u001b[0m                                 Traceback (most recent call last)",
      "\u001b[1;32m/home/chenjunzhi/Modulized_Prompt_LLM/Retrieve/test.ipynb 单元格 11\u001b[0m line \u001b[0;36m1\n\u001b[0;32m----> <a href='vscode-notebook-cell://ssh-remote%2Bsribd/home/chenjunzhi/Modulized_Prompt_LLM/Retrieve/test.ipynb#X13sdnNjb2RlLXJlbW90ZQ%3D%3D?line=0'>1</a>\u001b[0m ICL \u001b[39m=\u001b[39m tool_database\u001b[39m.\u001b[39;49mretrieve_thought_ICL(\u001b[39m\"\u001b[39;49m\u001b[39mracecards_for_greyhound_racing_uk\u001b[39;49m\u001b[39m\"\u001b[39;49m, top_k\u001b[39m=\u001b[39;49m\u001b[39m2\u001b[39;49m)\n\u001b[1;32m      <a href='vscode-notebook-cell://ssh-remote%2Bsribd/home/chenjunzhi/Modulized_Prompt_LLM/Retrieve/test.ipynb#X13sdnNjb2RlLXJlbW90ZQ%3D%3D?line=1'>2</a>\u001b[0m ICL\n",
      "File \u001b[0;32m~/Modulized_Prompt_LLM/Retrieve/tool_database.py:168\u001b[0m, in \u001b[0;36mtool_database.retrieve_thought_ICL\u001b[0;34m(self, action, top_k)\u001b[0m\n\u001b[1;32m    166\u001b[0m     action_indices \u001b[39m=\u001b[39m random\u001b[39m.\u001b[39msample(action_indices, top_k)\n\u001b[1;32m    167\u001b[0m \u001b[39mfor\u001b[39;00m action_indice \u001b[39min\u001b[39;00m action_indices:\n\u001b[0;32m--> 168\u001b[0m     i, j \u001b[39m=\u001b[39m \u001b[39mself\u001b[39;49m\u001b[39m.\u001b[39;49maction_database[standard_action][action_indice]\n\u001b[1;32m    169\u001b[0m     example_conversation \u001b[39m=\u001b[39m \u001b[39mself\u001b[39m\u001b[39m.\u001b[39mget_conversation(i, j)[\u001b[39m\"\u001b[39m\u001b[39mvalue\u001b[39m\u001b[39m\"\u001b[39m]\n\u001b[1;32m    170\u001b[0m     assistant \u001b[39m=\u001b[39m \u001b[39mself\u001b[39m\u001b[39m.\u001b[39massistant_decompose(example_conversation)\n",
      "\u001b[0;31mTypeError\u001b[0m: list indices must be integers or slices, not tuple"
     ]
    }
   ],
   "source": [
    "ICL = tool_database.retrieve_thought_ICL(\"racecards_for_greyhound_racing_uk\", top_k=2)\n",
    "ICL"
   ]
  },
  {
   "cell_type": "code",
   "execution_count": 38,
   "metadata": {},
   "outputs": [
    {
     "data": {
      "text/plain": [
       "[1, 3, 2]"
      ]
     },
     "execution_count": 38,
     "metadata": {},
     "output_type": "execute_result"
    }
   ],
   "source": [
    "a = [1,2,3]\n",
    "random.shuffle(a)\n",
    "a"
   ]
  },
  {
   "cell_type": "markdown",
   "metadata": {},
   "source": []
  }
 ],
 "metadata": {
  "kernelspec": {
   "display_name": "phoenix",
   "language": "python",
   "name": "python3"
  },
  "language_info": {
   "codemirror_mode": {
    "name": "ipython",
    "version": 3
   },
   "file_extension": ".py",
   "mimetype": "text/x-python",
   "name": "python",
   "nbconvert_exporter": "python",
   "pygments_lexer": "ipython3",
   "version": "3.9.17"
  }
 },
 "nbformat": 4,
 "nbformat_minor": 2
}
